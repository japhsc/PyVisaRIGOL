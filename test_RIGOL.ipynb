{
 "cells": [
  {
   "cell_type": "code",
   "execution_count": 4,
   "metadata": {
    "collapsed": true
   },
   "outputs": [],
   "source": [
    "import numpy\n",
    "import visa\n",
    "\n",
    "#numpy.frombuffer?"
   ]
  },
  {
   "cell_type": "code",
   "execution_count": 5,
   "metadata": {
    "collapsed": true
   },
   "outputs": [],
   "source": [
    "#usb = rigol.list_device()\n",
    "#print(usb)\n",
    "#adr = usb[0]\n",
    "\n",
    "#adr = u'TCPIP::10.5.78.184::INSTR'\n",
    "adr = u'USB0::0x1AB1::0x04CE::DS1ZA170300751::INSTR'"
   ]
  },
  {
   "cell_type": "code",
   "execution_count": 6,
   "metadata": {
    "collapsed": true
   },
   "outputs": [],
   "source": [
    "class ResourceManager(object):\n",
    "    def __init__(self, **kwargs):\n",
    "        #self.rm = visa.ResourceManager(**kwargs)\n",
    "        #self.rm = visa.ResourceManager('@py',**kwargs)\n",
    "        self.rm = visa.ResourceManager('@ni',**kwargs)\n",
    "\n",
    "    def __enter__(self):\n",
    "        return(self.rm)\n",
    "\n",
    "    def __exit__(self, exc_type, exc, exc_tb):\n",
    "        del(self.rm)\n",
    "\n",
    "\n",
    "class Instrument(object):    \n",
    "    def __init__(self, rm, resource_name, **kwargs):\n",
    "        self.inst = rm.open_resource(resource_name, **kwargs)\n",
    "    def __enter__(self):\n",
    "        return(self.inst)\n",
    "\n",
    "    def __exit__(self, exc_type, exc, exc_tb):\n",
    "        self.inst.close()"
   ]
  },
  {
   "cell_type": "code",
   "execution_count": 7,
   "metadata": {},
   "outputs": [
    {
     "name": "stdout",
     "output_type": "stream",
     "text": [
      "RIGOL TECHNOLOGIES,DS1054Z,DS1ZA170300751,00.04.02.SP4\n",
      "\n"
     ]
    }
   ],
   "source": [
    "#usb = list(filter(lambda x: 'USB' in x, instruments))\n",
    "#adr = usb[0]\n",
    "\n",
    "#adr = \"TCPIP::10.5.78.184::INSTR\"\n",
    "\n",
    "#scope = rm.open_resource(usb[0], \n",
    "#                         timeout=20, \n",
    "#                         chunk_size=1024000, \n",
    "#                         write_termination=u'\\r', #u'\\n\\x00'\n",
    "#                         read_termination=u'\\r',  #u'\\n\\x00'\n",
    "#                         encoding = 'utf8' \n",
    "#                         )\n",
    "#scope.data_bits=5\n",
    "#scope.StopBits=1\n",
    "#scope.SerialTermination.last_bit = scope.SerialTermination.last_bit\n",
    "\n",
    "with ResourceManager() as rm:\n",
    "    instruments = rm.list_resources()\n",
    "\n",
    "    #with Instrument(rm, adr, encoding = 'utf8') as scope:\n",
    "    with Instrument(rm, adr) as scope:\n",
    "        print(scope.query(u'*IDN?\\n'))\n",
    "        scope.write(\":STOP\")\n",
    "\n",
    "        timescale = float(scope.query(u':TIM:SCAL?\\n'))\n",
    "        timeoffset = float(scope.query(u':TIM:OFFS?\\n'))\n",
    "        voltscale = float(scope.query(u':CHAN1:SCAL?\\n'))\n",
    "        voltoffset = float(scope.query(u':CHAN1:OFFS?\\n'))\n",
    "        sample_rate = scope.query(u':ACQuire:SRATe?\\n')\n",
    "\n",
    "        scope.write(u':WAVeform:MODE RAW\\n')\n",
    "        scope.write(u':WAVeform:FORMat BYTE\\n')\n",
    "        #rawdata = scope.query(\":WAV:DATA? CHAN1\").encode('ascii')[10:]\n",
    "        rawdata = scope.query_binary_values(u':WAV:DATA? CHAN1\\n',\n",
    "                                            datatype='B',\n",
    "                                            container = numpy.array,\n",
    "                                            is_big_endian  =False)\n",
    "        #print([chr(x) for x in rawdata[0:10]])\n",
    "        #print([255-x for x in rawdata[0:10]])\n",
    "        #rawdata = scope.query_binary_values(\":WAV:DATA? CHAN1\")\n",
    "        #print([hex(x) for x in rawdata])\n",
    "        #print(bin(rawdata))\n",
    "        #rawdata = scope.read_raw()\n",
    "        #print(rawdata)\n",
    "        rawdata = rawdata[10:-1]\n",
    "            \n",
    "        scope.write(u':RUN\\n')\n",
    "        #scope.close()\n",
    "\n",
    "data = numpy.frombuffer(rawdata[:-1], 'B')\n",
    "#print(data)\n",
    "data =  255 - data\n",
    "#print(data)\n",
    "data = (data - 130.0 - voltoffset/voltscale*25) / 25 * voltscale\n",
    "#print(data)\n",
    "\n",
    "time = numpy.linspace(timeoffset - 6 * timescale, timeoffset + 6 * timescale, num=len(data))"
   ]
  },
  {
   "cell_type": "code",
   "execution_count": null,
   "metadata": {
    "collapsed": true
   },
   "outputs": [],
   "source": []
  }
 ],
 "metadata": {
  "kernelspec": {
   "display_name": "Python 3",
   "language": "python",
   "name": "python3"
  },
  "language_info": {
   "codemirror_mode": {
    "name": "ipython",
    "version": 3
   },
   "file_extension": ".py",
   "mimetype": "text/x-python",
   "name": "python",
   "nbconvert_exporter": "python",
   "pygments_lexer": "ipython3",
   "version": "3.6.1"
  }
 },
 "nbformat": 4,
 "nbformat_minor": 2
}
