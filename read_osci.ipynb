{
 "cells": [
  {
   "cell_type": "code",
   "execution_count": 1,
   "metadata": {},
   "outputs": [],
   "source": [
    "%load_ext autoreload\n",
    "%autoreload 2"
   ]
  },
  {
   "cell_type": "code",
   "execution_count": 2,
   "metadata": {},
   "outputs": [],
   "source": [
    "import matplotlib.pyplot as plot\n",
    "import rigol_plot as rigol\n",
    "import numpy as np"
   ]
  },
  {
   "cell_type": "code",
   "execution_count": 5,
   "metadata": {},
   "outputs": [
    {
     "name": "stdout",
     "output_type": "stream",
     "text": [
      "['USB0::0x0400::0x09C4::DSA1B170700030::INSTR', 'USB0::0x1AB1::0x04CE::DS1ZA170300751::INSTR']\n",
      "USB0::0x1AB1::0x04CE::DS1ZA170300751::INSTR\n"
     ]
    }
   ],
   "source": [
    "usb = rigol.list_device()\n",
    "print(usb)\n",
    "if len(usb)<1:\n",
    "    adr = u'TCPIP::10.5.78.184::INSTR'\n",
    "else:\n",
    "    adr = usb[1]\n",
    "print(adr)"
   ]
  },
  {
   "cell_type": "code",
   "execution_count": 6,
   "metadata": {},
   "outputs": [
    {
     "name": "stdout",
     "output_type": "stream",
     "text": [
      "timescale 0.001 \t timeoffset 0.000\n",
      "y_inc = 0.00 \t y_ref = 127.00 \t y_ori = 0.00\n",
      "CH1(AC): data size: 1200; sampl.rate: 2.500000e+08; Mem.depth: AUTO\n",
      "y_inc = 0.02 \t y_ref = 127.00 \t y_ori = 0.00\n",
      "CH2(DC): data size: 1200; sampl.rate: 2.500000e+08; Mem.depth: AUTO\n"
     ]
    },
    {
     "data": {
      "text/plain": [
       "[<matplotlib.lines.Line2D at 0x176088687b8>,\n",
       " <matplotlib.lines.Line2D at 0x17608868a20>]"
      ]
     },
     "execution_count": 6,
     "metadata": {},
     "output_type": "execute_result"
    },
    {
     "data": {
      "image/png": "[encoded data removed]",
      "text/plain": [
       "<matplotlib.figure.Figure at 0x176087a1e80>"
      ]
     },
     "metadata": {},
     "output_type": "display_data"
    }
   ],
   "source": [
    "time, data, dt = rigol.read(adr, [1,2]);\n",
    "data[0].size\n",
    "time.size\n",
    "time\n",
    "plot.plot(time, data[0], time, data[1])\n",
    "#plot.show()"
   ]
  },
  {
   "cell_type": "code",
   "execution_count": 8,
   "metadata": {},
   "outputs": [
    {
     "data": {
      "image/png": "[encoded data removed]",
      "text/plain": [
       "<matplotlib.figure.Figure at 0x17608c41cf8>"
      ]
     },
     "metadata": {},
     "output_type": "display_data"
    }
   ],
   "source": [
    "# See if we should use a different time axis\n",
    "if (time[-1] < 1e-3):\n",
    "    time = time * 1e6\n",
    "    tUnit = \"uS\"\n",
    "elif (time[-1] < 1):\n",
    "    time = time * 1e3\n",
    "    tUnit = \"mS\"\n",
    "else:\n",
    "    tUnit = \"S\"\n",
    "\n",
    "# Plot the data\n",
    "plot.plot(time, data[0])\n",
    "plot.title(\"Oscilloscope Channel 1\")\n",
    "plot.ylabel(\"Voltage (V)\")\n",
    "plot.xlabel(\"Time (\" + tUnit + \")\")\n",
    "plot.xlim(time[0], time[-1])\n",
    "plot.show()"
   ]
  },
  {
   "cell_type": "code",
   "execution_count": 91,
   "metadata": {},
   "outputs": [
    {
     "name": "stdout",
     "output_type": "stream",
     "text": [
      "0.0\n",
      "RIGOL TECHNOLOGIES,DS1054Z,DS1ZA170300751,00.04.02.SP4\n",
      "\n",
      "True\n"
     ]
    }
   ],
   "source": [
    "import visa\n",
    "\n",
    "rm = visa.ResourceManager('@ni')\n",
    "scope = rm.open_resource(u'USB0::0x1AB1::0x04CE::DS1ZA170300751::INSTR')\n",
    "\n",
    "print(scope.query_delay)\n",
    "print(scope.query(\"*IDN?\"))\n",
    "\n",
    "ret = scope.write(':RUN')\n",
    "print(ret[1]==0)\n",
    "\n",
    "#ret = scope.write('')\n",
    "#scope.query?"
   ]
  },
  {
   "cell_type": "code",
   "execution_count": 133,
   "metadata": {},
   "outputs": [
    {
     "name": "stdout",
     "output_type": "stream",
     "text": [
      "4.000000e-05\n",
      " 127\n",
      " 0\n",
      "\n"
     ]
    },
    {
     "data": {
      "text/plain": [
       "(6, <StatusCode.success: 0>)"
      ]
     },
     "execution_count": 133,
     "metadata": {},
     "output_type": "execute_result"
    }
   ],
   "source": [
    "import time as t\n",
    "import numpy\n",
    "\n",
    "y_inc = scope.query(':WAVeform:YINCrement?')\n",
    "y_ref = scope.query(':WAVeform:YREFerence?')\n",
    "y_ori = scope.query(':WAVeform:YORigin?')\n",
    "scope.write(':SINgle')\n",
    "trigger = 'WAIT'\n",
    "while trigger.find('STOP') < 0:\n",
    "    trigger = scope.query(\":TRIGger:STATus?\")\n",
    "    t.sleep(0.1)\n",
    "    \n",
    "scope.write(':WAV:DATA? CHAN2')\n",
    "instuff = scope.read_raw()\n",
    "instuff = instuff[11:-1]\n",
    "indata = numpy.frombuffer(instuff, 'B').astype(float)\n",
    "print(y_inc, y_ref, y_ori)\n",
    "\n",
    "scope.write(':RUN')\n"
   ]
  },
  {
   "cell_type": "code",
   "execution_count": 23,
   "metadata": {},
   "outputs": [
    {
     "data": {
      "text/plain": [
       "[1]"
      ]
     },
     "execution_count": 23,
     "metadata": {},
     "output_type": "execute_result"
    }
   ],
   "source": []
  },
  {
   "cell_type": "code",
   "execution_count": null,
   "metadata": {},
   "outputs": [],
   "source": []
  }
 ],
 "metadata": {
  "kernelspec": {
   "display_name": "Python 3",
   "language": "python",
   "name": "python3"
  },
  "language_info": {
   "codemirror_mode": {
    "name": "ipython",
    "version": 3
   },
   "file_extension": ".py",
   "mimetype": "text/x-python",
   "name": "python",
   "nbconvert_exporter": "python",
   "pygments_lexer": "ipython3",
   "version": "3.6.4"
  }
 },
 "nbformat": 4,
 "nbformat_minor": 2
}
