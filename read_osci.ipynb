{
 "cells": [
  {
   "cell_type": "code",
   "execution_count": 2,
   "metadata": {},
   "outputs": [],
   "source": [
    "%load_ext autoreload\n",
    "%autoreload 2"
   ]
  },
  {
   "cell_type": "code",
   "execution_count": 3,
   "metadata": {},
   "outputs": [],
   "source": [
    "import matplotlib.pyplot as plot\n",
    "import rigol_plot as rigol\n",
    "import numpy as np"
   ]
  },
  {
   "cell_type": "code",
   "execution_count": 4,
   "metadata": {},
   "outputs": [
    {
     "name": "stdout",
     "output_type": "stream",
     "text": [
      "USB0::6833::1230::DS1ZA170300751::0::INSTR\n"
     ]
    }
   ],
   "source": [
    "usb = rigol.list_device()\n",
    "if len(usb)<1:\n",
    "    adr = u''\n",
    "else:\n",
    "    adr = usb[0]\n",
    "print(adr)"
   ]
  },
  {
   "cell_type": "code",
   "execution_count": 25,
   "metadata": {},
   "outputs": [
    {
     "name": "stdout",
     "output_type": "stream",
     "text": [
      "Data size: 1212 Sample rate: 1.000000e+06 Mem. depth 600000\n"
     ]
    }
   ],
   "source": [
    "time, data = rigol.read(adr,2)"
   ]
  },
  {
   "cell_type": "code",
   "execution_count": 26,
   "metadata": {},
   "outputs": [
    {
     "data": {
      "image/png": "[encoded data removed]",
      "text/plain": [
       "<Figure size 432x288 with 1 Axes>"
      ]
     },
     "metadata": {},
     "output_type": "display_data"
    }
   ],
   "source": [
    "# See if we should use a different time axis\n",
    "if (time[-1] < 1e-3):\n",
    "    time = time * 1e6\n",
    "    tUnit = \"uS\"\n",
    "elif (time[-1] < 1):\n",
    "    time = time * 1e3\n",
    "    tUnit = \"mS\"\n",
    "else:\n",
    "    tUnit = \"S\"\n",
    "\n",
    "# Plot the data\n",
    "plot.plot(time, data)\n",
    "plot.title(\"Oscilloscope Channel 1\")\n",
    "plot.ylabel(\"Voltage (V)\")\n",
    "plot.xlabel(\"Time (\" + tUnit + \")\")\n",
    "plot.xlim(time[0], time[-1])\n",
    "plot.show()"
   ]
  },
  {
   "cell_type": "code",
   "execution_count": null,
   "metadata": {
    "collapsed": true
   },
   "outputs": [],
   "source": []
  }
 ],
 "metadata": {
  "kernelspec": {
   "display_name": "Python 3",
   "language": "python",
   "name": "python3"
  },
  "language_info": {
   "codemirror_mode": {
    "name": "ipython",
    "version": 3
   },
   "file_extension": ".py",
   "mimetype": "text/x-python",
   "name": "python",
   "nbconvert_exporter": "python",
   "pygments_lexer": "ipython3",
   "version": "3.6.4"
  }
 },
 "nbformat": 4,
 "nbformat_minor": 2
}
