{
 "cells": [
  {
   "cell_type": "code",
   "execution_count": 1,
   "metadata": {},
   "outputs": [],
   "source": [
    "%load_ext autoreload\n",
    "%autoreload 2"
   ]
  },
  {
   "cell_type": "code",
   "execution_count": 2,
   "metadata": {},
   "outputs": [],
   "source": [
    "import matplotlib.pyplot as plot\n",
    "import rigol_plot as rigol\n",
    "import numpy as np"
   ]
  },
  {
   "cell_type": "code",
   "execution_count": 3,
   "metadata": {},
   "outputs": [
    {
     "name": "stdout",
     "output_type": "stream",
     "text": [
      "['USB0::6833::1230::DS1ZA171206162::0::INSTR']\n",
      "USB0::6833::1230::DS1ZA171206162::0::INSTR\n"
     ]
    }
   ],
   "source": [
    "usb = rigol.list_device()\n",
    "print(usb)\n",
    "if len(usb)<1:\n",
    "    adr = u'TCPIP::10.5.78.184::INSTR'\n",
    "else:\n",
    "    adr = usb[0]\n",
    "print(adr)"
   ]
  },
  {
   "cell_type": "code",
   "execution_count": 4,
   "metadata": {},
   "outputs": [
    {
     "name": "stdout",
     "output_type": "stream",
     "text": [
      "timescale 0.000 \t timeoffset 0.000\n",
      "y_inc = 0.00 \t y_ref = 127.00 \t y_ori = 0.00\n",
      "b'#9000001200'\n",
      "b'\\x7f\\x80\\x80\\x7f\\x7f\\x80\\x7f\\x80\\x7f\\x80\\x7f\\x80\\x7f\\x80\\x7f\\x80\\x7f\\x80\\x80\\x7f\\x7f\\x80\\x80\\x7f\\x80\\x7f\\x7f\\x80\\x7f\\x80\\x7f\\x80\\x7f\\x80\\x7f\\x80\\x7f\\x80\\x7f\\x80\\x7f\\x80\\x7f\\x80\\x80\\x7f\\x7f\\x80\\x80\\x7f\\x7f\\x80\\x7f\\x80\\x80\\x7f\\x80\\x7f\\x7f\\x80\\x80\\x7f\\x7f\\x80\\x80\\x7f\\x7f\\x80\\x7f\\x80\\x7f\\x80\\x7f\\x80\\x7f\\x80\\x7f\\x80\\x7f\\x80\\x7f\\x80\\x80\\x7f\\x7f\\x80\\x7f\\x80\\x7f\\x80\\x7f\\x80\\x7f\\x80\\x80\\x7f\\x80\\x7f\\x80\\x7f\\x7f\\x80\\x7f\\x80\\x7f\\x80\\x7f\\x80\\x7f\\x80\\x80\\x7f\\x7f\\x80\\x7f\\x80\\x80\\x7f\\x7f\\x80\\x7f\\x80\\x7f\\x80\\x7f\\x80\\x7f\\x80\\x80\\x7f\\x7f\\x80\\x7f\\x80\\x80\\x7f\\x7f\\x80\\x7f\\x80\\x7f\\x80\\x7f\\x80\\x80\\x7f\\x7f\\x80\\x80\\x7f\\x7f\\x80\\x7f\\x80\\x7f\\x80\\x80\\x7f\\x80\\x7f\\x7f\\x80\\x7f\\x80\\x80\\x7f\\x7f\\x80\\x7f\\x80\\x80\\x7f\\x7f\\x80\\x80\\x7f\\x7f\\x80\\x7f\\x80\\x80\\x7f\\x80\\x7f\\x7f\\x80\\x7f\\x80\\x7f\\x80\\x7f\\x80\\x7f\\x80\\x7f\\x80\\x80\\x7f\\x7f\\x80\\x7f\\x80\\x7f\\x80\\x80\\x7f\\x7f\\x80\\x7f\\x80\\x7f\\x80\\x7f\\x80\\x7f\\x80\\x7f\\x80\\x7f\\x80\\x7f\\x80\\x7f\\x80\\x7f\\x80\\x7f\\x80\\x7f\\x80\\x80\\x7f\\x7f\\x80\\x7f\\x80\\x80\\x7f\\x7f\\x80\\x7f\\x80\\x7f\\x80\\x80\\x7f\\x7f\\x80\\x80\\x7f\\x80\\x7f\\x7f\\x80\\x7f\\x80\\x7f\\x80\\x80\\x7f\\x7f\\x80\\x80\\x7f\\x7f\\x80\\x7f\\x80\\x80\\x7f\\x7f\\x80\\x7f\\x80\\x7f\\x80\\x80\\x7f\\x80\\x7f\\x7f\\x80\\x7f\\x80\\x80\\x7f\\x7f\\x80\\x7f\\x80\\x7f\\x80\\x7f\\x80\\x7f\\x80\\x7f\\x80\\x80\\x7f\\x7f\\x80\\x7f\\x80\\x7f\\x80\\x7f\\x80\\x7f\\x80\\x80\\x7f\\x7f\\x80\\x7f\\x80\\x7f\\x80\\x80\\x7f\\x7f\\x80\\x7f\\x80\\x7f\\x80\\x7f\\x80\\x7f\\x80\\x7f\\x80\\x7f\\x80\\x7f\\x80\\x7f\\x80\\x7f\\x80\\x7f\\x80\\x7f\\x80\\x80\\x7f\\x7f\\x80\\x7f\\x80\\x7f\\x80\\x7f\\x80\\x7f\\x80\\x80\\x7f\\x80\\x7f\\x7f\\x80\\x7f\\x80\\x7f\\x80\\x7f\\x80\\x80\\x7f\\x7f\\x80\\x80\\x7f\\x7f\\x80\\x7f\\x80\\x7f\\x80\\x7f\\x80\\x80\\x7f\\x80\\x7f\\x7f\\x80\\x7f\\x80\\x7f\\x80\\x7f\\x80\\x7f\\x80\\x7f\\x80\\x7f\\x80\\x7f\\x80\\x80\\x7f\\x80\\x7f\\x7f\\x80\\x7f\\x80\\x7f\\x80\\x7f\\x80\\x80\\x7f\\x7f\\x80\\x7f\\x80\\x80\\x7f\\x7f\\x80\\x7f\\x80\\x7f\\x80\\x7f\\x80\\x7f\\x80\\x80\\x7f\\x7f\\x80\\x7f\\x80\\x7f\\x80\\x7f\\x80\\x80\\x7f\\x80\\x7f\\x7f\\x80\\x7f\\x80\\x7f\\x80\\x7f\\x80\\x7f\\x80\\x7f\\x80\\x7f\\x80\\x7f\\x80\\x7f\\x80\\x7f\\x80\\x7f\\x80\\x7f\\x80\\x80\\x7f\\x7f\\x80\\x7f\\x80\\x7f\\x80\\x7f\\x80\\x7f\\x80\\x80\\x7f\\x7f\\x80\\x7f\\x80\\x7f\\x80\\x7f\\x80\\x7f\\x80\\x80\\x7f\\x7f\\x80\\x7f\\x80\\x7f\\x80\\x7f\\x80\\x7f\\x80\\x7f\\x80\\x7f\\x80\\x7f\\x80\\x7f\\x80\\x7f\\x80\\x7f\\x80\\x7f\\x80\\x80\\x7f\\x80\\x7f\\x80\\x7f\\x7f\\x80\\x7f\\x80\\x7f\\x80\\x80\\x7f\\x7f\\x80\\x7f\\x80\\x7f\\x80\\x7f\\x80\\x80\\x7f\\x7f\\x80\\x7f\\x80\\x7f\\x80\\x7f\\x80\\x7f\\x80\\x7f\\x80\\x7f\\x80\\x7f\\x80\\x80\\x7f\\x7f\\x80\\x7f\\x80\\x80\\x7f\\x7f\\x80\\x7f\\x80\\x7f\\x80\\x80\\x7f\\x7f\\x80\\x7f\\x80\\x7f\\x80\\x7f\\x80\\x7f\\x80\\x7f\\x80\\x7f\\x80\\x80\\x7f\\x80\\x7f\\x7f\\x80\\x80\\x7f\\x7f\\x80\\x7f\\x80\\x7f\\x80\\x7f\\x80\\x7f\\x80\\x7f\\x80\\x7f\\x80\\x80\\x7f\\x7f\\x80\\x7f\\x80\\x7f\\x80\\x80\\x7f\\x7f\\x80\\x7f\\x80\\x80\\x7f\\x80\\x7f\\x80\\x7f\\x7f\\x80\\x7f\\x80\\x7f\\x80\\x7f\\x80\\x7f\\x80\\x80\\x7f\\x80\\x7f\\x7f\\x80\\x80\\x7f\\x7f\\x80\\x7f\\x80\\x7f\\x80\\x7f\\x80\\x7f\\x80\\x7f\\x80\\x7f\\x80\\x7f\\x80\\x7f\\x80\\x80\\x7f\\x7f\\x80\\x7f\\x80\\x7f\\x80\\x7f\\x80\\x7f\\x80\\x7f\\x80\\x7f\\x80\\x7f\\x80\\x7f\\x80\\x7f\\x80\\x7f\\x80\\x7f\\x80\\x7f\\x80\\x7f\\x80\\x7f\\x80\\n\\x80\\x7f\\x80\\x7f\\x80\\x7f\\x80\\x7f\\x80\\x7f\\x80\\x7f\\x80\\x7f\\x80\\x80\\x7f\\x80\\x7f\\x7f\\x80\\x7f\\x80\\x80\\x7f\\x80\\x7f\\x7f\\x80\\x80\\x7f\\x7f\\x80\\x80\\x7f\\x7f\\x80\\x7f\\x80\\x7f\\x80\\x7f\\x80\\x7f\\x80\\x7f\\x80\\x80\\x7f\\x7f\\x80\\x7f\\x80\\x7f\\x80\\x80\\x7f\\x7f\\x80\\x80\\x7f\\x80\\x7f\\x7f\\x80\\x7f\\x80\\x7f\\x80\\x80\\x7f\\x7f\\x80\\x80\\x7f\\x7f\\x80\\x7f\\x80\\x80\\x7f\\x7f\\x80\\x7f\\x80\\x7f\\x80\\x80\\x7f\\x80\\x7f\\x7f\\x80\\x7f\\x80\\x80\\x7f\\x7f\\x80\\x7f\\x80\\x7f\\x80\\x7f\\x80\\x7f\\x80\\x7f\\x80\\x80\\x7f\\x7f\\x80\\x7f\\x80\\x7f\\x80\\x7f\\x80\\x7f\\x80\\x80\\x7f\\x7f\\x80\\x7f\\x80\\x7f\\x80\\x80\\x7f\\x7f\\x80\\x7f\\x80\\x7f\\x80\\x7f\\x80\\x7f\\x80\\x7f\\x80\\x7f\\x80\\x7f\\x80\\x7f\\x80\\x7f\\x80\\x7f\\x80\\x7f\\x80\\x80\\x7f\\x7f\\x80\\x7f\\x80\\x7f\\x80\\x7f\\x80\\x7f\\x80\\x80\\x7f\\x80\\x7f\\x7f\\x80\\x7f\\x80\\x7f\\x80\\x7f\\x80\\x80\\x7f\\x7f\\x80\\x80\\x7f\\x7f\\x80\\x7f\\x80\\x7f\\x80\\x7f\\x80\\x80\\x7f\\x80\\x7f\\x7f\\x80\\x7f\\x80\\x7f\\x80\\x7f\\x80\\x7f\\x80\\x7f\\x80\\x7f\\x80\\x7f\\x80\\x80\\x7f\\x80\\x7f\\x7f\\x80\\x7f\\x80\\x7f\\x80\\x7f\\x80\\x80\\x7f\\x7f\\x80\\x7f\\x80\\x80\\x7f\\x7f\\x80\\x7f\\x80\\x7f\\x80\\x7f\\x80\\x7f\\x80\\x80\\x7f\\x7f\\x80\\x7f\\x80\\x7f\\x80\\x7f\\x80\\x80\\x7f\\x80\\x7f\\x7f\\x80\\x7f\\x80\\x7f\\x80\\x7f\\x80\\x7f\\x80\\x7f\\x80\\x7f\\x80\\x7f\\x80\\x7f\\x80\\x7f\\x80\\x7f\\x80\\x7f\\x80\\x80\\x7f\\x7f\\x80\\x7f\\x80\\x7f\\x80\\x7f\\x80\\x7f\\x80\\x80\\x7f\\x7f\\x80\\x7f\\x80\\x7f\\x80\\x7f\\x80\\x7f\\x80\\x80\\x7f\\x7f\\x80\\x7f\\x80\\x7f\\x80\\x7f\\x80\\x7f\\x80\\x7f\\x80\\x7f\\x80\\x7f\\x80\\x7f\\x80\\x7f\\x80\\x7f\\x80\\x7f\\x80\\x80\\x7f\\x80\\x7f\\x80\\x7f\\x7f\\x80\\x7f\\x80\\x7f\\x80\\x80\\x7f\\x7f\\x80\\x7f\\x80\\x7f\\x80\\x7f\\x80\\x80\\x7f\\x7f\\x80\\x7f\\x80\\x7f\\x80\\x7f\\x80\\x7f\\x80\\x7f\\x80\\x7f\\x80\\x7f\\x80\\x80\\x7f\\x7f\\x80\\x7f\\x80\\x80\\x7f\\x7f\\x80\\x7f\\x80\\x7f\\x80\\x80\\x7f\\x7f\\x80\\x7f\\x80\\x7f\\x80\\x7f\\x80\\x7f\\x80\\x7f\\x80\\x7f\\x80\\x80\\x7f\\x80\\x7f\\x7f\\x80\\x80\\x7f\\x7f\\x80\\x7f\\x80\\x7f\\x80\\x7f\\x80\\x7f\\x80\\x7f\\x80\\x7f\\x80\\x80\\x7f\\x7f\\x80\\x7f\\x80\\x7f\\x80\\x80\\x7f\\x7f\\x80\\x7f\\x80\\x80\\x7f\\x80\\x7f\\x80\\x7f\\x7f\\x80\\x7f\\x80\\x7f\\x80\\x7f\\x80\\x7f\\x80\\x80\\x7f\\x80\\x7f\\x7f\\x80\\x80\\x7f\\x7f\\x80\\x7f\\x80\\x7f\\x80\\x7f\\x80\\x7f\\x80\\x7f\\x80\\x7f\\x80\\x7f\\x80\\x7f\\x80\\x80\\x7f\\x7f\\x80\\x7f\\x80\\x7f\\x80\\x7f\\x80\\x7f\\x80\\x7f\\x80\\x7f\\x80\\x7f\\x80\\x7f\\x80\\x7f\\x80\\x7f\\x80\\x7f\\x80\\x7f\\x80\\x7f\\x80\\x7f\\x80'\n",
      "CH1(DC): data size: 1212; sampl.rate: 5.000000e+08; Mem.depth: AUTO\n",
      "y_inc = 0.00 \t y_ref = 127.00 \t y_ori = -78.00\n",
      "b'#9000001200'\n",
      "b'1424242424412341242424154124314124141424312441412424412424242424244131311431242523142324412441314124242341414113412414412431241424242441242424242424143123143124144124232424242524414124242441242431241441411441142414242441232424242424412431311424412441242324412441232424242414414114314124414114142424242424412324242424244141133141244124142324242424314124242441242404412441142441241424242441322424242424414123314124242414232424142431312424234141243141241431243124144124242424312424242441412431312414412431242424412441234124242414244114314141144114241424242431242424242441243131242451243124242441242424242424412441412331414124412441241424242441242324242424414131314124412414242424142431412424242441243141\\n4244141143141414141243141242424232424242424412431311424412441242324412441232424242414414114314124414114142424242424412324242424244141133141244124142324242424314124242441242404412441142441241424242441322424242424414123314124242414232424142431312424234141243141241431243124144124242424312424242441412431312414412431242424412441234124242414244114314141144114241424242431242424242441243131242451243124242441242424242424412441412331414124412441241424242441242324242424414131314124412414242424142431412424242441243141'\n",
      "CH2(DC): data size: 1212; sampl.rate: 5.000000e+08; Mem.depth: AUTO\n"
     ]
    },
    {
     "data": {
      "text/plain": [
       "[<matplotlib.lines.Line2D at 0x7f3d08b294a8>,\n",
       " <matplotlib.lines.Line2D at 0x7f3d08b29710>]"
      ]
     },
     "execution_count": 4,
     "metadata": {},
     "output_type": "execute_result"
    },
    {
     "data": {
      "image/png": "[encoded data removed]",
      "text/plain": [
       "<Figure size 432x288 with 1 Axes>"
      ]
     },
     "metadata": {},
     "output_type": "display_data"
    }
   ],
   "source": [
    "time, data, dt = rigol.read(adr, [1,2]);\n",
    "data[0].size\n",
    "time.size\n",
    "time\n",
    "plot.plot(time, data[0], time, data[1])\n",
    "#plot.show()"
   ]
  },
  {
   "cell_type": "code",
   "execution_count": 5,
   "metadata": {},
   "outputs": [
    {
     "data": {
      "image/png": "[encoded data removed]",
      "text/plain": [
       "<Figure size 432x288 with 1 Axes>"
      ]
     },
     "metadata": {},
     "output_type": "display_data"
    }
   ],
   "source": [
    "# See if we should use a different time axis\n",
    "if (time[-1] < 1e-3):\n",
    "    time = time * 1e6\n",
    "    tUnit = \"uS\"\n",
    "elif (time[-1] < 1):\n",
    "    time = time * 1e3\n",
    "    tUnit = \"mS\"\n",
    "else:\n",
    "    tUnit = \"S\"\n",
    "\n",
    "# Plot the data\n",
    "plot.plot(time, data[0])\n",
    "plot.title(\"Oscilloscope Channel 1\")\n",
    "plot.ylabel(\"Voltage (V)\")\n",
    "plot.xlabel(\"Time (\" + tUnit + \")\")\n",
    "plot.xlim(time[0], time[-1])\n",
    "plot.show()"
   ]
  },
  {
   "cell_type": "code",
   "execution_count": 91,
   "metadata": {},
   "outputs": [
    {
     "name": "stdout",
     "output_type": "stream",
     "text": [
      "0.0\n",
      "RIGOL TECHNOLOGIES,DS1054Z,DS1ZA170300751,00.04.02.SP4\n",
      "\n",
      "True\n"
     ]
    }
   ],
   "source": [
    "import visa\n",
    "\n",
    "rm = visa.ResourceManager('@ni')\n",
    "scope = rm.open_resource(u'USB0::0x1AB1::0x04CE::DS1ZA170300751::INSTR')\n",
    "\n",
    "print(scope.query_delay)\n",
    "print(scope.query(\"*IDN?\"))\n",
    "\n",
    "ret = scope.write(':RUN')\n",
    "print(ret[1]==0)\n",
    "\n",
    "#ret = scope.write('')\n",
    "#scope.query?"
   ]
  },
  {
   "cell_type": "code",
   "execution_count": 133,
   "metadata": {},
   "outputs": [
    {
     "name": "stdout",
     "output_type": "stream",
     "text": [
      "4.000000e-05\n",
      " 127\n",
      " 0\n",
      "\n"
     ]
    },
    {
     "data": {
      "text/plain": [
       "(6, <StatusCode.success: 0>)"
      ]
     },
     "execution_count": 133,
     "metadata": {},
     "output_type": "execute_result"
    }
   ],
   "source": [
    "import time as t\n",
    "import numpy\n",
    "\n",
    "y_inc = scope.query(':WAVeform:YINCrement?')\n",
    "y_ref = scope.query(':WAVeform:YREFerence?')\n",
    "y_ori = scope.query(':WAVeform:YORigin?')\n",
    "scope.write(':SINgle')\n",
    "trigger = 'WAIT'\n",
    "while trigger.find('STOP') < 0:\n",
    "    trigger = scope.query(\":TRIGger:STATus?\")\n",
    "    t.sleep(0.1)\n",
    "    \n",
    "scope.write(':WAV:DATA? CHAN2')\n",
    "instuff = scope.read_raw()\n",
    "instuff = instuff[11:-1]\n",
    "indata = numpy.frombuffer(instuff, 'B').astype(float)\n",
    "print(y_inc, y_ref, y_ori)\n",
    "\n",
    "scope.write(':RUN')\n"
   ]
  },
  {
   "cell_type": "code",
   "execution_count": 23,
   "metadata": {},
   "outputs": [
    {
     "data": {
      "text/plain": [
       "[1]"
      ]
     },
     "execution_count": 23,
     "metadata": {},
     "output_type": "execute_result"
    }
   ],
   "source": []
  },
  {
   "cell_type": "code",
   "execution_count": null,
   "metadata": {},
   "outputs": [],
   "source": []
  }
 ],
 "metadata": {
  "kernelspec": {
   "display_name": "Python 3",
   "language": "python",
   "name": "python3"
  },
  "language_info": {
   "codemirror_mode": {
    "name": "ipython",
    "version": 3
   },
   "file_extension": ".py",
   "mimetype": "text/x-python",
   "name": "python",
   "nbconvert_exporter": "python",
   "pygments_lexer": "ipython3",
   "version": "3.6.4"
  }
 },
 "nbformat": 4,
 "nbformat_minor": 2
}
