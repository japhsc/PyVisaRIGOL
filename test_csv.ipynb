{
 "cells": [
  {
   "cell_type": "code",
   "execution_count": 1,
   "metadata": {
    "collapsed": true
   },
   "outputs": [],
   "source": [
    "import csv\n",
    "import numpy as np"
   ]
  },
  {
   "cell_type": "code",
   "execution_count": 2,
   "metadata": {},
   "outputs": [
    {
     "name": "stdout",
     "output_type": "stream",
     "text": [
      "['Spam', 'Spam', 'Spam', 'Spam', 'Spam', 'Baked Beans']\n",
      "1.0\n",
      "2.0\n",
      "3.0\n",
      "4.0\n",
      "5.0\n",
      "6.0\n"
     ]
    }
   ],
   "source": [
    "head = ['Spam'] * 5 + ['Baked Beans']\n",
    "lst = [1.0, 2.0, 3.0, 4.0, 5.0, 6.0]\n",
    "\n",
    "filename = 'test.csv'\n",
    "with open(filename, 'w') as csvfile:\n",
    "    spamwriter = csv.writer(csvfile, delimiter=',')\n",
    "    spamwriter.writerow(head)\n",
    "    spamwriter.writerow(lst)\n",
    "    print(head)\n",
    "    for item in lst:\n",
    "        print(item)\n",
    "        #writer.writerow(item)\n",
    "        #writer.writerow([item[0], item[1], item[2]])\n"
   ]
  },
  {
   "cell_type": "code",
   "execution_count": null,
   "metadata": {
    "collapsed": true
   },
   "outputs": [],
   "source": [
    "def write_data_csv(filename,data):\n",
    "    with open(filename, 'w', newline='') as csvfile:\n",
    "        spamwriter = csv.writer(csvfile, delimiter=',')\n",
    "        spamwriter.writerow(head)\n",
    "        spamwriter.writerows(data.T.tolist())\n",
    "        #for row in range(0,data.shape[1]):\n",
    "        #    #tpl = new_data[:,row].tolist()\n",
    "        #    #tpl = [item for sublist in tpl for item in sublist]\n",
    "        #    tpl = np.squeeze(np.asarray(new_data[:,row])).tolist()\n",
    "        #    spamwriter.writerow(tpl)"
   ]
  },
  {
   "cell_type": "code",
   "execution_count": null,
   "metadata": {
    "collapsed": true
   },
   "outputs": [],
   "source": []
  }
 ],
 "metadata": {
  "kernelspec": {
   "display_name": "Python 3",
   "language": "python",
   "name": "python3"
  },
  "language_info": {
   "codemirror_mode": {
    "name": "ipython",
    "version": 3
   },
   "file_extension": ".py",
   "mimetype": "text/x-python",
   "name": "python",
   "nbconvert_exporter": "python",
   "pygments_lexer": "ipython3",
   "version": "3.6.1"
  }
 },
 "nbformat": 4,
 "nbformat_minor": 2
}
